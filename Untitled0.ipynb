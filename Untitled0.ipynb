{
  "nbformat": 4,
  "nbformat_minor": 0,
  "metadata": {
    "colab": {
      "provenance": []
    },
    "kernelspec": {
      "name": "python3",
      "display_name": "Python 3"
    },
    "language_info": {
      "name": "python"
    }
  },
  "cells": [
    {
      "cell_type": "code",
      "execution_count": null,
      "metadata": {
        "id": "C5Ydi-zHw5H0"
      },
      "outputs": [],
      "source": [
        "import numpy as np\n",
        "\n",
        "# Thay đổi LUT_SIZE thành 513\n",
        "LUT_SIZE = 513\n",
        "FIXED_POINT_SCALE = 1 << 24  # 2^24 = 16777216\n",
        "\n",
        "# Tạo 513 điểm đều nhau từ -1.0 đến 1.0, bao gồm cả 0.0\n",
        "x = np.linspace(-1.0, 1.0, LUT_SIZE)\n",
        "\n",
        "# Tính sigmoid\n",
        "sigmoid = 1.0 / (1.0 + np.exp(-x))\n",
        "\n",
        "# Convert to Q8.24 fixed-point\n",
        "lut_values = np.round(sigmoid * FIXED_POINT_SCALE).astype(np.int32)\n",
        "\n",
        "# Ghi file Verilog LUT\n",
        "with open(\"sigmoid_lut.vh\", \"w\") as f:\n",
        "    for i, val in enumerate(lut_values):\n",
        "        # Chuyển giá trị âm về dạng unsigned 2's complement 32-bit\n",
        "        hex_val = f\"{np.uint32(val):08x}\"\n",
        "        f.write(f\"    sigmoid_lut[{i}] = 32'h{hex_val}; // sigmoid({x[i]:.6f})\\n\")\n"
      ]
    },
    {
      "cell_type": "code",
      "source": [
        "import numpy as np\n",
        "\n",
        "# Cấu hình LUT\n",
        "LUT_SIZE = 513\n",
        "FIXED_POINT_SCALE = 1 << 24  # 2^24 = 16777216\n",
        "\n",
        "# Sinh các điểm x đều nhau từ -1.0 đến 1.0\n",
        "x = np.linspace(-1.0, 1.0, LUT_SIZE)\n",
        "\n",
        "# Tính tanh(x)\n",
        "tanh_vals = np.tanh(x)\n",
        "\n",
        "# Chuyển sang định dạng fixed-point Q8.24 (signed)\n",
        "lut_values = np.round(tanh_vals * FIXED_POINT_SCALE).astype(np.int32)\n",
        "\n",
        "# Ghi file Verilog header\n",
        "with open(\"tanh_lut.vh\", \"w\") as f:\n",
        "    for i, val in enumerate(lut_values):\n",
        "        # Format hex 32-bit signed (2's complement)\n",
        "        hex_val = f\"{np.uint32(val):08x}\"\n",
        "        f.write(f\"    tanh_lut[{i}] = 32'h{hex_val}; // tanh({x[i]:.6f})\\n\")\n"
      ],
      "metadata": {
        "id": "u3ozHrvazOK5"
      },
      "execution_count": null,
      "outputs": []
    }
  ]
}